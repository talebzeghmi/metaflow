{
 "cells": [
  {
   "cell_type": "code",
   "execution_count": 1,
   "metadata": {
    "tags": []
   },
   "outputs": [
    {
     "name": "stdout",
     "output_type": "stream",
     "text": [
      "Overwriting hello_flow.py\n"
     ]
    }
   ],
   "source": [
    "%%writefile hello_flow.py\n",
    "\n",
    "from metaflow import FlowSpec, step\n",
    "\n",
    "\n",
    "class HelloFlow(FlowSpec):\n",
    "    @step\n",
    "    def start(self):\n",
    "        \"\"\"\n",
    "        This is the 'start' step. All flows must have a step named 'start' that\n",
    "        is the first step in the flow.\n",
    "        \"\"\"\n",
    "        self.next(self.hello)\n",
    "\n",
    "    @step\n",
    "    def hello(self):\n",
    "        print(\"Hello <TODO>.\")\n",
    "        self.next(self.end)\n",
    "\n",
    "    @step\n",
    "    def end(self):\n",
    "        \"\"\"\n",
    "        This is the 'end' step. All flows must have an 'end' step, which is the\n",
    "        last step in the flow.\n",
    "        \"\"\"\n",
    "        print(\"HelloFlow is all done.\")\n",
    "\n",
    "\n",
    "if __name__ == \"__main__\":\n",
    "    HelloFlow()"
   ]
  },
  {
   "cell_type": "code",
   "execution_count": 2,
   "metadata": {
    "collapsed": false,
    "jupyter": {
     "outputs_hidden": false
    },
    "pycharm": {
     "name": "#%%\n"
    }
   },
   "outputs": [
    {
     "name": "stdout",
     "output_type": "stream",
     "text": [
      "\u001b[35m\u001b[1mMetaflow 2.3.0\u001b[0m\u001b[35m\u001b[22m executing \u001b[0m\u001b[31m\u001b[1mHelloFlow\u001b[0m\u001b[35m\u001b[22m\u001b[0m\u001b[35m\u001b[22m for \u001b[0m\u001b[31m\u001b[1muser:jovyan\u001b[0m\u001b[35m\u001b[22m\u001b[K\u001b[0m\u001b[35m\u001b[22m\u001b[0m\n",
      "Usage: hello_flow.py [OPTIONS] COMMAND [ARGS]...\n",
      "\n",
      "Options:\n",
      "  --quiet / --not-quiet           Suppress unnecessary messages  [default:\n",
      "                                  not-quiet]\n",
      "  --metadata [local|service]      Metadata service type  [default: local]\n",
      "  --environment [local|conda]     Execution environment type  [default: local]\n",
      "  --datastore [local|s3]          Data backend type  [default: local]\n",
      "  --datastore-root TEXT           Root path for datastore\n",
      "  --package-suffixes TEXT         A comma-separated list of file suffixes to\n",
      "                                  include in the code package.  [default:\n",
      "                                  .py,.R,.RDS]\n",
      "  --with TEXT                     Add a decorator to all steps. You can\n",
      "                                  specify this option multiple times to attach\n",
      "                                  multiple decorators in steps.\n",
      "  --pylint / --no-pylint          Run Pylint on the flow if pylint is\n",
      "                                  installed.  [default: pylint]\n",
      "  --coverage                      Measure code coverage using coverage.py.\n",
      "                                  [default: False]\n",
      "  --event-logger [debugLogger|nullSidecarLogger]\n",
      "                                  type of event logger used  [default:\n",
      "                                  nullSidecarLogger]\n",
      "  --monitor [debugMonitor|nullSidecarMonitor]\n",
      "                                  Monitoring backend type  [default:\n",
      "                                  nullSidecarMonitor]\n",
      "  --help                          Show this message and exit.\n",
      "\n",
      "Commands:\n",
      "  batch           Commands related to AWS Batch.\n",
      "  check           Check that the flow is valid (default).\n",
      "  dump            Get data artifacts of a task or all tasks in a step.\n",
      "  help            Show all available commands.\n",
      "  init            Internal command to initialize a run.\n",
      "  logs            Show stdout/stderr produced by a task or all tasks in a...\n",
      "  output-dot      Visualize the flow with Graphviz.\n",
      "  output-raw      Output internal state of the flow graph.\n",
      "  package         Commands related to code packages.\n",
      "  resume          Resume execution of a previous run of this flow.\n",
      "  run             Run the workflow locally.\n",
      "  show            Show structure of the flow.\n",
      "  step            Internal command to execute a single task.\n",
      "  step-functions  Commands related to AWS Step Functions.\n",
      "  version         Print the Metaflow version\n"
     ]
    }
   ],
   "source": [
    "!python hello_flow.py help"
   ]
  },
  {
   "cell_type": "code",
   "execution_count": 4,
   "metadata": {
    "collapsed": false,
    "jupyter": {
     "outputs_hidden": false
    },
    "pycharm": {
     "name": "#%%\n"
    }
   },
   "outputs": [
    {
     "name": "stdout",
     "output_type": "stream",
     "text": [
      "\u001b[35m\u001b[1mMetaflow 2.3.0\u001b[0m\u001b[35m\u001b[22m executing \u001b[0m\u001b[31m\u001b[1mHelloFlow\u001b[0m\u001b[35m\u001b[22m\u001b[0m\u001b[35m\u001b[22m for \u001b[0m\u001b[31m\u001b[1muser:jovyan\u001b[0m\u001b[35m\u001b[22m\u001b[K\u001b[0m\u001b[35m\u001b[22m\u001b[0m\n",
      "Usage: hello_flow.py run [OPTIONS]\n",
      "\n",
      "  Run the workflow locally.\n",
      "\n",
      "Options:\n",
      "  --tag TEXT                Annotate this run with the given tag. You can\n",
      "                            specify this option multiple times to attach\n",
      "                            multiple tags in the run.\n",
      "  --max-workers INTEGER     Maximum number of parallel processes.  [default:\n",
      "                            16]\n",
      "  --max-num-splits INTEGER  Maximum number of splits allowed in a foreach.\n",
      "                            This is a safety check preventing bugs from\n",
      "                            triggering thousands of steps inadvertently.\n",
      "                            [default: 100]\n",
      "  --max-log-size INTEGER    Maximum size of stdout and stderr captured in\n",
      "                            megabytes. If a step outputs more than this to\n",
      "                            stdout/stderr, its output will be truncated.\n",
      "                            [default: 10]\n",
      "  --with TEXT               Add a decorator to all steps. You can specify this\n",
      "                            option multiple times to attach multiple\n",
      "                            decorators in steps.\n",
      "  --run-id-file TEXT        Write the ID of this run to the file specified.\n",
      "  --namespace TEXT          Change namespace from the default (your username)\n",
      "                            to the specified tag. Note that this option does\n",
      "                            not alter tags assigned to the objects produced by\n",
      "                            this run, just what existing objects are visible\n",
      "                            in the client API. You can enable the global\n",
      "                            namespace with an empty string.--namespace=\n",
      "  --help                    Show this message and exit.\n"
     ]
    }
   ],
   "source": [
    "!python hello_flow.py run --help"
   ]
  },
  {
   "cell_type": "code",
   "execution_count": 5,
   "metadata": {
    "collapsed": false,
    "jupyter": {
     "outputs_hidden": false
    },
    "pycharm": {
     "name": "#%%\n"
    }
   },
   "outputs": [
    {
     "name": "stdout",
     "output_type": "stream",
     "text": [
      "\u001b[35m\u001b[1mMetaflow 2.3.0\u001b[0m\u001b[35m\u001b[22m executing \u001b[0m\u001b[31m\u001b[1mHelloFlow\u001b[0m\u001b[35m\u001b[22m\u001b[0m\u001b[35m\u001b[22m for \u001b[0m\u001b[31m\u001b[1muser:jovyan\u001b[0m\u001b[35m\u001b[22m\u001b[K\u001b[0m\u001b[35m\u001b[22m\u001b[0m\n",
      "\u001b[35m\u001b[22mValidating your flow...\u001b[K\u001b[0m\u001b[35m\u001b[22m\u001b[0m\n",
      "\u001b[32m\u001b[1m    The graph looks good!\u001b[K\u001b[0m\u001b[32m\u001b[1m\u001b[0m\n",
      "\u001b[35m\u001b[22mRunning pylint...\u001b[K\u001b[0m\u001b[35m\u001b[22m\u001b[0m\n",
      "\u001b[32m\u001b[1m    Pylint is happy!\u001b[K\u001b[0m\u001b[32m\u001b[1m\u001b[0m\n",
      "\u001b[35m2021-06-20 06:48:19.709 \u001b[0m\u001b[1mWorkflow starting (run-id 1624171699705581):\u001b[0m\n",
      "\u001b[35m2021-06-20 06:48:19.715 \u001b[0m\u001b[32m[1624171699705581/start/1 (pid 565)] \u001b[0m\u001b[1mTask is starting.\u001b[0m\n",
      "\u001b[35m2021-06-20 06:48:20.181 \u001b[0m\u001b[32m[1624171699705581/start/1 (pid 565)] \u001b[0m\u001b[1mTask finished successfully.\u001b[0m\n",
      "\u001b[35m2021-06-20 06:48:20.190 \u001b[0m\u001b[32m[1624171699705581/hello/2 (pid 570)] \u001b[0m\u001b[1mTask is starting.\u001b[0m\n",
      "\u001b[35m2021-06-20 06:48:20.629 \u001b[0m\u001b[32m[1624171699705581/hello/2 (pid 570)] \u001b[0m\u001b[22mHello <TODO>.\u001b[0m\n",
      "\u001b[35m2021-06-20 06:48:20.690 \u001b[0m\u001b[32m[1624171699705581/hello/2 (pid 570)] \u001b[0m\u001b[1mTask finished successfully.\u001b[0m\n",
      "\u001b[35m2021-06-20 06:48:20.713 \u001b[0m\u001b[32m[1624171699705581/end/3 (pid 575)] \u001b[0m\u001b[1mTask is starting.\u001b[0m\n",
      "\u001b[35m2021-06-20 06:48:21.142 \u001b[0m\u001b[32m[1624171699705581/end/3 (pid 575)] \u001b[0m\u001b[22mHelloFlow is all done.\u001b[0m\n",
      "\u001b[35m2021-06-20 06:48:21.210 \u001b[0m\u001b[32m[1624171699705581/end/3 (pid 575)] \u001b[0m\u001b[1mTask finished successfully.\u001b[0m\n",
      "\u001b[35m2021-06-20 06:48:21.211 \u001b[0m\u001b[1mDone!\u001b[0m\n",
      "\u001b[0m"
     ]
    }
   ],
   "source": [
    "!python hello_flow.py run"
   ]
  },
  {
   "cell_type": "code",
   "execution_count": 12,
   "metadata": {
    "collapsed": false,
    "jupyter": {
     "outputs_hidden": false
    },
    "pycharm": {
     "name": "#%%\n"
    }
   },
   "outputs": [
    {
     "name": "stdout",
     "output_type": "stream",
     "text": [
      "Overwriting linear_flow.py\n"
     ]
    }
   ],
   "source": [
    "%%writefile linear_flow.py\n",
    "from metaflow import FlowSpec, step, current\n",
    "\n",
    "class LinearFlow(FlowSpec):\n",
    "\n",
    "    @step\n",
    "    def start(self):\n",
    "        self.logbook = current.step_name\n",
    "        self.next(self.a)\n",
    "\n",
    "    @step\n",
    "    def a(self):\n",
    "        self.logbook += f\".{current.step_name}\"\n",
    "        self.next(self.end)\n",
    "\n",
    "    @step\n",
    "    def end(self):\n",
    "        self.logbook += f\".{current.step_name}\"\n",
    "        assert self.logbook == 'start.a.end'\n",
    "\n",
    "if __name__ == '__main__':\n",
    "    LinearFlow()"
   ]
  },
  {
   "cell_type": "code",
   "execution_count": 13,
   "metadata": {
    "collapsed": false,
    "jupyter": {
     "outputs_hidden": false
    },
    "pycharm": {
     "name": "#%%\n"
    }
   },
   "outputs": [
    {
     "name": "stdout",
     "output_type": "stream",
     "text": [
      "\u001b[35m\u001b[1mMetaflow 2.3.0\u001b[0m\u001b[35m\u001b[22m executing \u001b[0m\u001b[31m\u001b[1mLinearFlow\u001b[0m\u001b[35m\u001b[22m\u001b[0m\u001b[35m\u001b[22m for \u001b[0m\u001b[31m\u001b[1muser:jovyan\u001b[0m\u001b[35m\u001b[22m\u001b[K\u001b[0m\u001b[35m\u001b[22m\u001b[0m\n",
      "\u001b[35m\u001b[22mValidating your flow...\u001b[K\u001b[0m\u001b[35m\u001b[22m\u001b[0m\n",
      "\u001b[32m\u001b[1m    The graph looks good!\u001b[K\u001b[0m\u001b[32m\u001b[1m\u001b[0m\n",
      "\u001b[35m\u001b[22mRunning pylint...\u001b[K\u001b[0m\u001b[35m\u001b[22m\u001b[0m\n",
      "\u001b[32m\u001b[1m    Pylint is happy!\u001b[K\u001b[0m\u001b[32m\u001b[1m\u001b[0m\n",
      "\u001b[35m2021-06-20 06:49:34.483 \u001b[0m\u001b[1mWorkflow starting (run-id 1624171774480104):\u001b[0m\n",
      "\u001b[35m2021-06-20 06:49:34.488 \u001b[0m\u001b[32m[1624171774480104/start/1 (pid 606)] \u001b[0m\u001b[1mTask is starting.\u001b[0m\n",
      "\u001b[35m2021-06-20 06:49:35.028 \u001b[0m\u001b[32m[1624171774480104/start/1 (pid 606)] \u001b[0m\u001b[1mTask finished successfully.\u001b[0m\n",
      "\u001b[35m2021-06-20 06:49:35.039 \u001b[0m\u001b[32m[1624171774480104/a/2 (pid 611)] \u001b[0m\u001b[1mTask is starting.\u001b[0m\n",
      "\u001b[35m2021-06-20 06:49:35.508 \u001b[0m\u001b[32m[1624171774480104/a/2 (pid 611)] \u001b[0m\u001b[1mTask finished successfully.\u001b[0m\n",
      "\u001b[35m2021-06-20 06:49:35.518 \u001b[0m\u001b[32m[1624171774480104/end/3 (pid 616)] \u001b[0m\u001b[1mTask is starting.\u001b[0m\n",
      "\u001b[35m2021-06-20 06:49:36.012 \u001b[0m\u001b[32m[1624171774480104/end/3 (pid 616)] \u001b[0m\u001b[1mTask finished successfully.\u001b[0m\n",
      "\u001b[35m2021-06-20 06:49:36.013 \u001b[0m\u001b[1mDone!\u001b[0m\n",
      "\u001b[0m"
     ]
    }
   ],
   "source": [
    "!python linear_flow.py run"
   ]
  },
  {
   "cell_type": "code",
   "execution_count": null,
   "metadata": {},
   "outputs": [],
   "source": []
  }
 ],
 "metadata": {
  "kernelspec": {
   "display_name": "Python 3",
   "language": "python",
   "name": "python3"
  },
  "language_info": {
   "codemirror_mode": {
    "name": "ipython",
    "version": 3
   },
   "file_extension": ".py",
   "mimetype": "text/x-python",
   "name": "python",
   "nbconvert_exporter": "python",
   "pygments_lexer": "ipython3",
   "version": "3.7.10"
  }
 },
 "nbformat": 4,
 "nbformat_minor": 4
}
